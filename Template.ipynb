{
 "cells": [
  {
   "cell_type": "markdown",
   "id": "44cf3aad-9025-4fa1-83c4-d88060bd15bb",
   "metadata": {},
   "source": [
    "# ==============================\n",
    "# Sales Forecasting Project - Template Notebook\n",
    "# =============================="
   ]
  },
  {
   "cell_type": "markdown",
   "id": "b8471654-a84f-4507-bbbd-db80e4f4570c",
   "metadata": {
    "jp-MarkdownHeadingCollapsed": true
   },
   "source": [
    "## Section 1: Import Libraries\n",
    "##### Add any other libraries you need (XGBoost, Prophet, LightGBM, etc.)\n"
   ]
  },
  {
   "cell_type": "code",
   "execution_count": 2,
   "id": "d5c158d1-9c8b-4cb6-a395-ff69d4489f16",
   "metadata": {},
   "outputs": [],
   "source": [
    "import pandas as pd\n",
    "import numpy as np\n",
    "import matplotlib.pyplot as plt\n",
    "import seaborn as sns\n",
    "\n",
    "from sklearn.model_selection import train_test_split\n",
    "from sklearn.metrics import mean_squared_error, mean_absolute_error, r2_score\n",
    "from sklearn.linear_model import LinearRegression"
   ]
  },
  {
   "cell_type": "markdown",
   "id": "1b42474c-9b52-4b02-aaf0-9913e807b2a8",
   "metadata": {
    "jp-MarkdownHeadingCollapsed": true
   },
   "source": [
    "# Section 2: Load Dataset\n",
    "#### Example:\n",
    "#### df = pd.read_csv(\"sales_data.csv\")\n",
    "#### df.head()"
   ]
  },
  {
   "cell_type": "code",
   "execution_count": null,
   "id": "3f593255-2702-4acb-b32c-fe85646ad0fe",
   "metadata": {},
   "outputs": [],
   "source": []
  },
  {
   "cell_type": "markdown",
   "id": "b666e316-8b7b-423d-87a8-47021417dda6",
   "metadata": {},
   "source": [
    "# Section 3: Data Cleaning\n",
    "#### - Handle missing values\n",
    "#### - Remove duplicates\n",
    "#### - Handle outliers\n",
    "\n",
    "#### Example:\n",
    "#### df.isnull().sum()\n",
    "#### df.dropna(inplace=True)"
   ]
  },
  {
   "cell_type": "code",
   "execution_count": null,
   "id": "8e6a76c2-5f05-41bc-a334-206b95ec8421",
   "metadata": {},
   "outputs": [],
   "source": []
  },
  {
   "cell_type": "markdown",
   "id": "854ba188-d5ab-424b-b60a-61353e9d6dba",
   "metadata": {},
   "source": [
    "# Section 4: Exploratory Data Analysis (EDA)\n",
    "#### - Basic statistics\n",
    "#### - Visualizations (trends, seasonality, correlations)\n",
    "\n",
    "#### Example:\n",
    "#### df['Sales'].plot(figsize=(12,6))\n",
    "#### sns.heatmap(df.corr(), annot=True)"
   ]
  },
  {
   "cell_type": "code",
   "execution_count": null,
   "id": "bd80d50e-2082-4aa2-a13c-71e0fbc8963f",
   "metadata": {},
   "outputs": [],
   "source": []
  },
  {
   "cell_type": "markdown",
   "id": "fed8646a-fc8d-4fc9-ac65-8acd1266fa43",
   "metadata": {},
   "source": [
    "# Section 5: Feature Engineering\n",
    "#### - Extract features from date (Year, Month, Day, Weekday, etc.)\n",
    "#### - Encode categorical variables\n",
    "#### - Scaling if needed\n",
    "\n",
    "#### Example:\n",
    "#### df['Month'] = pd.to_datetime(df['Date']).dt.month\n"
   ]
  },
  {
   "cell_type": "code",
   "execution_count": null,
   "id": "e804e72d-d2e6-4a9c-b82e-b60f7b3019b8",
   "metadata": {},
   "outputs": [],
   "source": []
  },
  {
   "cell_type": "markdown",
   "id": "22893e8d-b115-4ab5-a4a2-d782ea5f1ec1",
   "metadata": {},
   "source": [
    "# Section 6: Modeling\n",
    "#### - Split data into Train/Test\n",
    "#### - Train simple model (Linear Regression, Random Forest, XGBoost)\n",
    "#### - Save model results\n",
    "\n",
    "#### Example:\n",
    "#### X = df[['Month', 'Store', 'Product']]\n",
    "#### y = df['Sales']\n",
    "\n",
    "#### X_train, X_test, y_train, y_test = train_test_split(X, y, test_size=0.2, random_state=42)\n",
    "\n",
    "#### model = LinearRegression()\n",
    "#### model.fit(X_train, y_train)\n",
    "#### y_pred = model.predict(X_test)\n"
   ]
  },
  {
   "cell_type": "code",
   "execution_count": null,
   "id": "498af378-d7f0-4ebe-ac7c-4e5eac6cfe08",
   "metadata": {},
   "outputs": [],
   "source": []
  },
  {
   "cell_type": "markdown",
   "id": "f555da24-8977-4dbd-aa4a-5c9a3556cc68",
   "metadata": {},
   "source": [
    "# Section 7: Evaluation\n",
    "### - Evaluate model performance using metrics (MSE, RMSE, MAE, R2)\n",
    "\n",
    "#### Example:\n",
    "#### mse = mean_squared_error(y_test, y_pred)\n",
    "#### rmse = np.sqrt(mse)\n",
    "#### mae = mean_absolute_error(y_test, y_pred)\n",
    "#### r2 = r2_score(y_test, y_pred)\n",
    "\n",
    "#### print(\"MSE:\", mse)\n",
    "#### print(\"RMSE:\", rmse)\n",
    "#### print(\"MAE:\", mae)\n",
    "#### print(\"R2 Score:\", r2)"
   ]
  },
  {
   "cell_type": "code",
   "execution_count": null,
   "id": "03510da8-8feb-45e8-bab8-53afb049d174",
   "metadata": {},
   "outputs": [],
   "source": []
  },
  {
   "cell_type": "markdown",
   "id": "fbb3f075-b487-4269-9fd3-f315be59cea6",
   "metadata": {},
   "source": [
    "# Section 8: Deployment (Optional)\n",
    "#### - Export model (pickle/joblib)\n",
    "#### - Build simple API or Streamlit dashboard\n",
    "\n",
    "#### Example:\n",
    "#### import joblib\n",
    "#### joblib.dump(model, \"sales_forecast_model.pkl\")\n"
   ]
  },
  {
   "cell_type": "code",
   "execution_count": null,
   "id": "974c45fc-3854-4060-8e31-3585f3c23c3b",
   "metadata": {},
   "outputs": [],
   "source": []
  },
  {
   "cell_type": "markdown",
   "id": "c32a24a3-fe85-4165-957c-af4c8c57cb6b",
   "metadata": {},
   "source": [
    "# ==============================\n",
    "# End of Template\n",
    "# ==============================\n"
   ]
  }
 ],
 "metadata": {
  "kernelspec": {
   "display_name": "Python 3 (ipykernel)",
   "language": "python",
   "name": "python3"
  },
  "language_info": {
   "codemirror_mode": {
    "name": "ipython",
    "version": 3
   },
   "file_extension": ".py",
   "mimetype": "text/x-python",
   "name": "python",
   "nbconvert_exporter": "python",
   "pygments_lexer": "ipython3",
   "version": "3.12.10"
  }
 },
 "nbformat": 4,
 "nbformat_minor": 5
}
